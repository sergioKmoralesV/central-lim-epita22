{
 "cells": [
  {
   "cell_type": "markdown",
   "metadata": {
    "collapsed": true,
    "pycharm": {
     "name": "#%% md\n"
    }
   },
   "source": [
    "### Central limit theorem project\n",
    "**1 -** simulating **several toss of a coin** (this should be a big number like 10000 toss, more details about the value below) and putting the results in a list L1 (like `[1,0,1,1,0]` if you tossed the coin 5 times)"
   ]
  },
  {
   "cell_type": "code",
   "execution_count": 23,
   "outputs": [
    {
     "name": "stdout",
     "output_type": "stream",
     "text": [
      "L1:  [1 1 0 ... 1 0 0]\n"
     ]
    }
   ],
   "source": [
    "import numpy as np\n",
    "l1 = np.random.randint(0,2,10000)\n",
    "print('L1: ',l1)"
   ],
   "metadata": {
    "collapsed": false,
    "pycharm": {
     "name": "#%%\n"
    }
   }
  },
  {
   "cell_type": "markdown",
   "source": [
    "**2 - making the following actions N times** (this could be ` N=10 ` or ` N=10000 ` times, more details below) and putting the results in a list L2 : taking a sample of ` random 20 ` results among these 10000 (in L1) and make the sum (or the mean) of these 20 values. The list L2 should then contain N values."
   ],
   "metadata": {
    "collapsed": false,
    "pycharm": {
     "name": "#%% md\n"
    }
   }
  },
  {
   "cell_type": "code",
   "execution_count": 24,
   "outputs": [
    {
     "name": "stdout",
     "output_type": "stream",
     "text": [
      "L2 (means) size:  1000\n",
      "L2 (sum) size:  1000\n"
     ]
    }
   ],
   "source": [
    "N = 1000\n",
    "l2 = []\n",
    "l2_sum = []\n",
    "for i in range(N):\n",
    "    sample = np.random.randint(0,10000,20)\n",
    "    elem = l1[sample]\n",
    "    l2.append(np.mean(elem))\n",
    "    l2_sum.append(np.sum(elem))\n",
    "\n",
    "print('L2 (means) size: ',len(l2))\n",
    "print('L2 (sum) size: ',len(l2_sum))"
   ],
   "metadata": {
    "collapsed": false,
    "pycharm": {
     "name": "#%%\n"
    }
   }
  },
  {
   "cell_type": "markdown",
   "source": [
    "**3 -** representing this last list **L2 as a histogram**"
   ],
   "metadata": {
    "collapsed": false,
    "pycharm": {
     "name": "#%% md\n"
    }
   }
  },
  {
   "cell_type": "code",
   "execution_count": 27,
   "outputs": [
    {
     "data": {
      "text/plain": "<Figure size 1152x432 with 2 Axes>",
      "image/png": "[encoded data removed]"
     },
     "metadata": {
      "needs_background": "light"
     },
     "output_type": "display_data"
    }
   ],
   "source": [
    "import matplotlib.pyplot as plt\n",
    "\n",
    "fig, ax = plt.subplots(1,2, figsize=(16,6))\n",
    "\n",
    "ax[0].hist(l2)\n",
    "ax[0].set_title('L2 composed by means')\n",
    "ax[0].set_ylabel('frequency')\n",
    "\n",
    "ax[1].hist(l2_sum)\n",
    "ax[1].set_title('L2 composed by sums')\n",
    "ax[1].set_ylabel('frequency')\n",
    "\n",
    "plt.show()"
   ],
   "metadata": {
    "collapsed": false,
    "pycharm": {
     "name": "#%%\n"
    }
   }
  },
  {
   "cell_type": "markdown",
   "source": [
    "**4 -** personalize for the user"
   ],
   "metadata": {
    "collapsed": false,
    "pycharm": {
     "name": "#%% md\n"
    }
   }
  },
  {
   "cell_type": "code",
   "execution_count": 39,
   "outputs": [
    {
     "name": "stdout",
     "output_type": "stream",
     "text": [
      "No of tosses:  1000000\n",
      "No of samples:  5000\n",
      "Size of samples:  1000\n"
     ]
    },
    {
     "data": {
      "text/plain": "<Figure size 432x288 with 1 Axes>",
      "image/png": "[encoded data removed]"
     },
     "metadata": {
      "needs_background": "light"
     },
     "output_type": "display_data"
    }
   ],
   "source": [
    "\n",
    "no_tosses = int(input(\"How many coin tosses will we perform?\"))\n",
    "no_sample = int(input(\"Which is the number of samples to take?\"))\n",
    "size_sample = int(input(\"Which is the size of the sample?\"))\n",
    "\n",
    "print(\"No of tosses: \", no_tosses)\n",
    "print(\"No of samples: \", no_sample)\n",
    "print(\"Size of samples: \", size_sample)\n",
    "\n",
    "l1_u = np.random.randint(0,2,no_tosses)\n",
    "l2_u = []\n",
    "\n",
    "for i in range(no_sample):\n",
    "    sample = np.random.randint(0,no_tosses,size_sample)\n",
    "    elem = l1_u[sample]\n",
    "    l2_u.append(np.mean(elem))\n",
    "\n",
    "fig1, ax1 = plt.subplots()\n",
    "n, bins, patches = ax1.hist(l2_u, 50, density=True)\n",
    "ax1.set_title('L2 composed by means')\n",
    "ax1.set_ylabel('frequency')\n",
    "\n",
    "mu = np.mean(l2_u)\n",
    "sigma = np.std(l2_u)\n",
    "\n",
    "y = ((1 / (np.sqrt(2 * np.pi) * sigma)) *\n",
    "     np.exp(-0.5 * (1 / sigma * (bins - mu))**2))\n",
    "ax1.plot(bins, y)\n",
    "\n",
    "plt.show()"
   ],
   "metadata": {
    "collapsed": false,
    "pycharm": {
     "name": "#%%\n"
    }
   }
  },
  {
   "cell_type": "code",
   "execution_count": null,
   "outputs": [],
   "source": [],
   "metadata": {
    "collapsed": false,
    "pycharm": {
     "name": "#%%\n"
    }
   }
  }
 ],
 "metadata": {
  "kernelspec": {
   "display_name": "Python 3",
   "language": "python",
   "name": "python3"
  },
  "language_info": {
   "codemirror_mode": {
    "name": "ipython",
    "version": 2
   },
   "file_extension": ".py",
   "mimetype": "text/x-python",
   "name": "python",
   "nbconvert_exporter": "python",
   "pygments_lexer": "ipython2",
   "version": "2.7.6"
  }
 },
 "nbformat": 4,
 "nbformat_minor": 0
}